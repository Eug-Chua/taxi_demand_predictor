{
 "cells": [
  {
   "cell_type": "code",
   "execution_count": 1,
   "metadata": {},
   "outputs": [
    {
     "name": "stdout",
     "output_type": "stream",
     "text": [
      "Current Directory: /Users/eugene/Github/taxi_demand_predictor/notebooks\n",
      "Project Root: /Users/eugene/Github/taxi_demand_predictor\n",
      "SRC Path: /Users/eugene/Github/taxi_demand_predictor/src\n"
     ]
    }
   ],
   "source": [
    "import sys\n",
    "import os\n",
    "from pathlib import Path\n",
    "from dotenv import load_dotenv\n",
    "\n",
    "# Determine paths\n",
    "current_directory = Path(os.getcwd())\n",
    "project_root = current_directory.parent\n",
    "src_path = project_root / 'src'\n",
    "\n",
    "print(\"Current Directory:\", current_directory)\n",
    "print(\"Project Root:\", project_root)\n",
    "print(\"SRC Path:\", src_path)\n",
    "\n",
    "# Adjust Python's search path\n",
    "sys.path.append(str(project_root))  # Adding project root to sys.path\n",
    "\n",
    "# Load environment variables\n",
    "from src.paths import PARENT_DIR\n",
    "load_dotenv(PARENT_DIR / '.env')\n",
    "\n",
    "# Import custom modules\n",
    "import src.config as config\n"
   ]
  },
  {
   "cell_type": "code",
   "execution_count": 2,
   "metadata": {},
   "outputs": [
    {
     "name": "stdout",
     "output_type": "stream",
     "text": [
      "current_date=Timestamp('2024-07-01 16:00:00')\n"
     ]
    }
   ],
   "source": [
    "from datetime import datetime, timedelta\n",
    "\n",
    "import pandas as pd\n",
    "\n",
    "current_date = pd.to_datetime(datetime.utcnow()).floor('H')\n",
    "print(f'{current_date=}')\n",
    "\n",
    "# fetch raw data for the last 28 days to add redundancy to our data pipeline\n",
    "fetch_data_to = current_date\n",
    "fetch_data_from = current_date - timedelta(days=28)"
   ]
  },
  {
   "cell_type": "code",
   "execution_count": 3,
   "metadata": {},
   "outputs": [],
   "source": [
    "from src.data import load_raw_data\n",
    "\n",
    "def fetch_batch_raw_data(\n",
    "        from_date:datetime,\n",
    "        to_date:datetime) -> pd.DataFrame:\n",
    "    \"\"\"\n",
    "    simulate production data by sampling historical data from 52 weeks ago\n",
    "    \"\"\"\n",
    "\n",
    "    from_date_ = from_date - timedelta(days=7*52)\n",
    "    to_date_ = to_date - timedelta(days=7*52)\n",
    "\n",
    "    # download 2 files from website\n",
    "    rides = load_raw_data(year=from_date_.year, months=from_date_.month)\n",
    "    rides = rides[rides.pickup_datetime >= from_date_]\n",
    "    rides_2 = load_raw_data(year=to_date_.year, months=to_date_.month)\n",
    "    rides_2 = rides_2[rides_2.pickup_datetime < from_date_]\n",
    "\n",
    "    rides = pd.concat([rides, rides_2])\n",
    "\n",
    "    # shift the data to pretend this is recent data\n",
    "    rides['pickup_datetime'] += timedelta(days=7*52)\n",
    "\n",
    "    rides.sort_values(by=['pickup_location_id', 'pickup_datetime'], inplace=True)\n",
    "\n",
    "    return rides"
   ]
  },
  {
   "cell_type": "code",
   "execution_count": 4,
   "metadata": {},
   "outputs": [
    {
     "name": "stdout",
     "output_type": "stream",
     "text": [
      "Checking for file: /Users/eugene/Github/taxi_demand_predictor/data/raw/rides_2023-06.parquet\n",
      "File 2023-06 was already in local storage: /Users/eugene/Github/taxi_demand_predictor/data/raw/rides_2023-06.parquet\n",
      "Files in RAW_DATA_DIR: ['rides_2024-01.parquet', 'rides_2023-03.parquet', 'rides_2022-05.parquet', 'rides_2023-02.parquet', 'rides_2023-12.parquet', 'rides_2022-04.parquet', 'rides_2023-10.parquet', 'rides_2022-06.parquet', 'rides_2023-09.parquet', 'rides_2024-02.parquet', 'rides_2023-08.parquet', 'rides_2024-03.parquet', 'rides_2023-01.parquet', 'rides_2023-11.parquet', 'rides_2022-07.parquet', 'rides_2022-12.parquet', 'rides_2022-02.parquet', 'rides_2023-04.parquet', 'rides_2022-03.parquet', 'rides_2023-05.parquet', 'rides_2022-08.parquet', 'rides_2022-11.parquet', 'rides_2022-01.parquet', 'rides_2023-07.parquet', 'rides_2022-10.parquet', 'rides_2023-06.parquet', 'rides_2022-09.parquet', 'rides_2024-04.parquet']\n",
      "Successfully loaded file: /Users/eugene/Github/taxi_demand_predictor/data/raw/rides_2023-06.parquet\n",
      "Checking for file: /Users/eugene/Github/taxi_demand_predictor/data/raw/rides_2023-07.parquet\n",
      "File 2023-07 was already in local storage: /Users/eugene/Github/taxi_demand_predictor/data/raw/rides_2023-07.parquet\n",
      "Files in RAW_DATA_DIR: ['rides_2024-01.parquet', 'rides_2023-03.parquet', 'rides_2022-05.parquet', 'rides_2023-02.parquet', 'rides_2023-12.parquet', 'rides_2022-04.parquet', 'rides_2023-10.parquet', 'rides_2022-06.parquet', 'rides_2023-09.parquet', 'rides_2024-02.parquet', 'rides_2023-08.parquet', 'rides_2024-03.parquet', 'rides_2023-01.parquet', 'rides_2023-11.parquet', 'rides_2022-07.parquet', 'rides_2022-12.parquet', 'rides_2022-02.parquet', 'rides_2023-04.parquet', 'rides_2022-03.parquet', 'rides_2023-05.parquet', 'rides_2022-08.parquet', 'rides_2022-11.parquet', 'rides_2022-01.parquet', 'rides_2023-07.parquet', 'rides_2022-10.parquet', 'rides_2023-06.parquet', 'rides_2022-09.parquet', 'rides_2024-04.parquet']\n",
      "Successfully loaded file: /Users/eugene/Github/taxi_demand_predictor/data/raw/rides_2023-07.parquet\n"
     ]
    }
   ],
   "source": [
    "rides = fetch_batch_raw_data(from_date=fetch_data_from, to_date=fetch_data_to)"
   ]
  },
  {
   "cell_type": "code",
   "execution_count": 20,
   "metadata": {},
   "outputs": [
    {
     "name": "stderr",
     "output_type": "stream",
     "text": [
      "100%|██████████| 257/257 [00:00<00:00, 296.03it/s]\n"
     ]
    }
   ],
   "source": [
    "from src.data import transform_raw_data_into_ts_data\n",
    "ts_data = transform_raw_data_into_ts_data(rides)"
   ]
  },
  {
   "cell_type": "code",
   "execution_count": 21,
   "metadata": {},
   "outputs": [],
   "source": [
    "# string to datetime\n",
    "ts_data['pickup_hour'] = pd.to_datetime(ts_data['pickup_hour'], utc=True)\n",
    "\n",
    "# add column with Unix epoch milliseconds\n",
    "ts_data['pickup_ts'] = ts_data['pickup_hour'].astype(int) // 10**6\n",
    "ts_data['pickup_ts'] = ts_data['pickup_ts'].astype('int64')\n",
    "\n",
    "ts_data['pickup_location_id'] = ts_data['pickup_location_id'].astype('int64')\n",
    "\n",
    "# Drop columns that are not part of the feature group schema\n",
    "ts_data = ts_data[['pickup_location_id', 'pickup_ts']]"
   ]
  },
  {
   "cell_type": "code",
   "execution_count": 23,
   "metadata": {},
   "outputs": [
    {
     "name": "stdout",
     "output_type": "stream",
     "text": [
      "Connection closed.\n",
      "Connected. Call `.close()` to terminate connection gracefully.\n",
      "\n",
      "Logged in to project, explore it here https://c.app.hopsworks.ai:443/p/837781\n",
      "Connected. Call `.close()` to terminate connection gracefully.\n",
      "Feature Group Schema: [Feature('pickup_location_id', 'BIGINT', None, False, False, None, None, None), Feature('pickup_ts', 'BIGINT', None, False, False, None, None, None)]\n",
      "Feature Group created successfully, explore it at \n",
      "https://c.app.hopsworks.ai:443/p/837781/fs/833604/fg/955767\n"
     ]
    },
    {
     "data": {
      "application/vnd.jupyter.widget-view+json": {
       "model_id": "e527d3c8b3bf4f13be2aa7c09e758608",
       "version_major": 2,
       "version_minor": 0
      },
      "text/plain": [
       "Uploading Dataframe: 0.00% |          | Rows 0/156256 | Elapsed Time: 00:00 | Remaining Time: ?"
      ]
     },
     "metadata": {},
     "output_type": "display_data"
    },
    {
     "name": "stdout",
     "output_type": "stream",
     "text": [
      "Launching job: time_series_hourly_feature_group_2_offline_fg_materialization\n",
      "Job started successfully, you can follow the progress at \n",
      "https://c.app.hopsworks.ai/p/837781/jobs/named/time_series_hourly_feature_group_2_offline_fg_materialization/executions\n"
     ]
    },
    {
     "data": {
      "text/plain": [
       "(<hsfs.core.job.Job at 0x7fa110f65b20>, None)"
      ]
     },
     "execution_count": 23,
     "metadata": {},
     "output_type": "execute_result"
    }
   ],
   "source": [
    "import hopsworks\n",
    "\n",
    "# connect to project\n",
    "project = hopsworks.login(\n",
    "    project=config.HOPSWORKS_PROJECT_NAME,\n",
    "    api_key_value=config.HOPSWORKS_API_KEY\n",
    ")\n",
    "\n",
    "# connect to feature store\n",
    "feature_store = project.get_feature_store()\n",
    "\n",
    "from hsfs.feature import Feature\n",
    "\n",
    "# Attempt to create or get the feature group with an updated schema\n",
    "feature_group = feature_store.get_or_create_feature_group(\n",
    "    name=config.FEATURE_GROUP_NAME,\n",
    "    # version=config.FEATURE_GROUP_VERSION,\n",
    "    version=2,\n",
    "    description='Time-series data at hourly frequency',\n",
    "    primary_key=['pickup_location_id', 'pickup_ts'],\n",
    "    event_time='pickup_ts',\n",
    "    features=[\n",
    "        Feature(name='pickup_location_id', type='BIGINT'),\n",
    "        Feature(name='pickup_ts', type='BIGINT')\n",
    "    ]\n",
    ")\n",
    "\n",
    "# Check if the feature group contains the correct schema\n",
    "print(\"Feature Group Schema:\", feature_group.features)"
   ]
  },
  {
   "cell_type": "code",
   "execution_count": null,
   "metadata": {},
   "outputs": [],
   "source": [
    "# Insert data\n",
    "feature_group.insert(ts_data, write_options={'wait_for_job':False})"
   ]
  },
  {
   "cell_type": "markdown",
   "metadata": {},
   "source": []
  },
  {
   "cell_type": "code",
   "execution_count": null,
   "metadata": {},
   "outputs": [],
   "source": []
  }
 ],
 "metadata": {
  "kernelspec": {
   "display_name": "Python 3",
   "language": "python",
   "name": "python3"
  },
  "language_info": {
   "codemirror_mode": {
    "name": "ipython",
    "version": 3
   },
   "file_extension": ".py",
   "mimetype": "text/x-python",
   "name": "python",
   "nbconvert_exporter": "python",
   "pygments_lexer": "ipython3",
   "version": "3.9.12"
  }
 },
 "nbformat": 4,
 "nbformat_minor": 2
}
