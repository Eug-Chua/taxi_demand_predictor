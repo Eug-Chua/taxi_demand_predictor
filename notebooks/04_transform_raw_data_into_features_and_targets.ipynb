{
 "cells": [
  {
   "cell_type": "code",
   "execution_count": 4,
   "metadata": {},
   "outputs": [],
   "source": [
    "%reload_ext autoreload\n",
    "%autoreload 2"
   ]
  },
  {
   "cell_type": "markdown",
   "metadata": {},
   "source": [
    "Added `%reload_ext autoreload` and `%autoreload 2` above to help automatically reload modules - ensuring that changes are picked up without requiring a kernel restart."
   ]
  },
  {
   "cell_type": "code",
   "execution_count": 8,
   "metadata": {},
   "outputs": [
    {
     "name": "stdout",
     "output_type": "stream",
     "text": [
      "['/Users/eugene/Github/taxi_demand_predictor/notebooks', '/Users/eugene/opt/anaconda3/lib/python39.zip', '/Users/eugene/opt/anaconda3/lib/python3.9', '/Users/eugene/opt/anaconda3/lib/python3.9/lib-dynload', '', '/Users/eugene/.local/lib/python3.9/site-packages', '/Users/eugene/opt/anaconda3/lib/python3.9/site-packages', '/Users/eugene/opt/anaconda3/lib/python3.9/site-packages/aeosa', '/Users/eugene/Github/taxi_demand_predictor', '/Users/eugene/Github/taxi_demand_predictor', '/Users/eugene/Github/taxi_demand_predictor']\n",
      "Checking for file: /Users/eugene/Github/taxi_demand_predictor/data/raw/rides_2022-01.parquet\n",
      "File 2022-01 was already in local storage: /Users/eugene/Github/taxi_demand_predictor/data/raw/rides_2022-01.parquet\n",
      "Files in RAW_DATA_DIR: ['rides_2022-05.parquet', 'rides_2022-04.parquet', 'rides_2022-06.parquet', 'rides_2022-07.parquet', 'rides_2022-12.parquet', 'rides_2022-02.parquet', 'rides_2022-03.parquet', 'rides_2022-08.parquet', 'rides_2022-11.parquet', 'rides_2022-01.parquet', 'rides_2022-10.parquet', 'rides_2022-09.parquet']\n",
      "Successfully loaded file: /Users/eugene/Github/taxi_demand_predictor/data/raw/rides_2022-01.parquet\n",
      "Checking for file: /Users/eugene/Github/taxi_demand_predictor/data/raw/rides_2022-02.parquet\n",
      "File 2022-02 was already in local storage: /Users/eugene/Github/taxi_demand_predictor/data/raw/rides_2022-02.parquet\n",
      "Files in RAW_DATA_DIR: ['rides_2022-05.parquet', 'rides_2022-04.parquet', 'rides_2022-06.parquet', 'rides_2022-07.parquet', 'rides_2022-12.parquet', 'rides_2022-02.parquet', 'rides_2022-03.parquet', 'rides_2022-08.parquet', 'rides_2022-11.parquet', 'rides_2022-01.parquet', 'rides_2022-10.parquet', 'rides_2022-09.parquet']\n",
      "Successfully loaded file: /Users/eugene/Github/taxi_demand_predictor/data/raw/rides_2022-02.parquet\n",
      "Checking for file: /Users/eugene/Github/taxi_demand_predictor/data/raw/rides_2022-03.parquet\n",
      "File 2022-03 was already in local storage: /Users/eugene/Github/taxi_demand_predictor/data/raw/rides_2022-03.parquet\n",
      "Files in RAW_DATA_DIR: ['rides_2022-05.parquet', 'rides_2022-04.parquet', 'rides_2022-06.parquet', 'rides_2022-07.parquet', 'rides_2022-12.parquet', 'rides_2022-02.parquet', 'rides_2022-03.parquet', 'rides_2022-08.parquet', 'rides_2022-11.parquet', 'rides_2022-01.parquet', 'rides_2022-10.parquet', 'rides_2022-09.parquet']\n",
      "Successfully loaded file: /Users/eugene/Github/taxi_demand_predictor/data/raw/rides_2022-03.parquet\n",
      "Checking for file: /Users/eugene/Github/taxi_demand_predictor/data/raw/rides_2022-04.parquet\n",
      "File 2022-04 was already in local storage: /Users/eugene/Github/taxi_demand_predictor/data/raw/rides_2022-04.parquet\n",
      "Files in RAW_DATA_DIR: ['rides_2022-05.parquet', 'rides_2022-04.parquet', 'rides_2022-06.parquet', 'rides_2022-07.parquet', 'rides_2022-12.parquet', 'rides_2022-02.parquet', 'rides_2022-03.parquet', 'rides_2022-08.parquet', 'rides_2022-11.parquet', 'rides_2022-01.parquet', 'rides_2022-10.parquet', 'rides_2022-09.parquet']\n",
      "Successfully loaded file: /Users/eugene/Github/taxi_demand_predictor/data/raw/rides_2022-04.parquet\n",
      "Checking for file: /Users/eugene/Github/taxi_demand_predictor/data/raw/rides_2022-05.parquet\n",
      "File 2022-05 was already in local storage: /Users/eugene/Github/taxi_demand_predictor/data/raw/rides_2022-05.parquet\n",
      "Files in RAW_DATA_DIR: ['rides_2022-05.parquet', 'rides_2022-04.parquet', 'rides_2022-06.parquet', 'rides_2022-07.parquet', 'rides_2022-12.parquet', 'rides_2022-02.parquet', 'rides_2022-03.parquet', 'rides_2022-08.parquet', 'rides_2022-11.parquet', 'rides_2022-01.parquet', 'rides_2022-10.parquet', 'rides_2022-09.parquet']\n",
      "Successfully loaded file: /Users/eugene/Github/taxi_demand_predictor/data/raw/rides_2022-05.parquet\n",
      "Checking for file: /Users/eugene/Github/taxi_demand_predictor/data/raw/rides_2022-06.parquet\n",
      "File 2022-06 was already in local storage: /Users/eugene/Github/taxi_demand_predictor/data/raw/rides_2022-06.parquet\n",
      "Files in RAW_DATA_DIR: ['rides_2022-05.parquet', 'rides_2022-04.parquet', 'rides_2022-06.parquet', 'rides_2022-07.parquet', 'rides_2022-12.parquet', 'rides_2022-02.parquet', 'rides_2022-03.parquet', 'rides_2022-08.parquet', 'rides_2022-11.parquet', 'rides_2022-01.parquet', 'rides_2022-10.parquet', 'rides_2022-09.parquet']\n",
      "Successfully loaded file: /Users/eugene/Github/taxi_demand_predictor/data/raw/rides_2022-06.parquet\n",
      "Checking for file: /Users/eugene/Github/taxi_demand_predictor/data/raw/rides_2022-07.parquet\n",
      "File 2022-07 was already in local storage: /Users/eugene/Github/taxi_demand_predictor/data/raw/rides_2022-07.parquet\n",
      "Files in RAW_DATA_DIR: ['rides_2022-05.parquet', 'rides_2022-04.parquet', 'rides_2022-06.parquet', 'rides_2022-07.parquet', 'rides_2022-12.parquet', 'rides_2022-02.parquet', 'rides_2022-03.parquet', 'rides_2022-08.parquet', 'rides_2022-11.parquet', 'rides_2022-01.parquet', 'rides_2022-10.parquet', 'rides_2022-09.parquet']\n",
      "Successfully loaded file: /Users/eugene/Github/taxi_demand_predictor/data/raw/rides_2022-07.parquet\n",
      "Checking for file: /Users/eugene/Github/taxi_demand_predictor/data/raw/rides_2022-08.parquet\n",
      "File 2022-08 was already in local storage: /Users/eugene/Github/taxi_demand_predictor/data/raw/rides_2022-08.parquet\n",
      "Files in RAW_DATA_DIR: ['rides_2022-05.parquet', 'rides_2022-04.parquet', 'rides_2022-06.parquet', 'rides_2022-07.parquet', 'rides_2022-12.parquet', 'rides_2022-02.parquet', 'rides_2022-03.parquet', 'rides_2022-08.parquet', 'rides_2022-11.parquet', 'rides_2022-01.parquet', 'rides_2022-10.parquet', 'rides_2022-09.parquet']\n",
      "Successfully loaded file: /Users/eugene/Github/taxi_demand_predictor/data/raw/rides_2022-08.parquet\n",
      "Checking for file: /Users/eugene/Github/taxi_demand_predictor/data/raw/rides_2022-09.parquet\n",
      "File 2022-09 was already in local storage: /Users/eugene/Github/taxi_demand_predictor/data/raw/rides_2022-09.parquet\n",
      "Files in RAW_DATA_DIR: ['rides_2022-05.parquet', 'rides_2022-04.parquet', 'rides_2022-06.parquet', 'rides_2022-07.parquet', 'rides_2022-12.parquet', 'rides_2022-02.parquet', 'rides_2022-03.parquet', 'rides_2022-08.parquet', 'rides_2022-11.parquet', 'rides_2022-01.parquet', 'rides_2022-10.parquet', 'rides_2022-09.parquet']\n",
      "Successfully loaded file: /Users/eugene/Github/taxi_demand_predictor/data/raw/rides_2022-09.parquet\n",
      "Checking for file: /Users/eugene/Github/taxi_demand_predictor/data/raw/rides_2022-10.parquet\n",
      "File 2022-10 was already in local storage: /Users/eugene/Github/taxi_demand_predictor/data/raw/rides_2022-10.parquet\n",
      "Files in RAW_DATA_DIR: ['rides_2022-05.parquet', 'rides_2022-04.parquet', 'rides_2022-06.parquet', 'rides_2022-07.parquet', 'rides_2022-12.parquet', 'rides_2022-02.parquet', 'rides_2022-03.parquet', 'rides_2022-08.parquet', 'rides_2022-11.parquet', 'rides_2022-01.parquet', 'rides_2022-10.parquet', 'rides_2022-09.parquet']\n",
      "Successfully loaded file: /Users/eugene/Github/taxi_demand_predictor/data/raw/rides_2022-10.parquet\n",
      "Checking for file: /Users/eugene/Github/taxi_demand_predictor/data/raw/rides_2022-11.parquet\n",
      "File 2022-11 was already in local storage: /Users/eugene/Github/taxi_demand_predictor/data/raw/rides_2022-11.parquet\n",
      "Files in RAW_DATA_DIR: ['rides_2022-05.parquet', 'rides_2022-04.parquet', 'rides_2022-06.parquet', 'rides_2022-07.parquet', 'rides_2022-12.parquet', 'rides_2022-02.parquet', 'rides_2022-03.parquet', 'rides_2022-08.parquet', 'rides_2022-11.parquet', 'rides_2022-01.parquet', 'rides_2022-10.parquet', 'rides_2022-09.parquet']\n",
      "Successfully loaded file: /Users/eugene/Github/taxi_demand_predictor/data/raw/rides_2022-11.parquet\n",
      "Checking for file: /Users/eugene/Github/taxi_demand_predictor/data/raw/rides_2022-12.parquet\n",
      "File 2022-12 was already in local storage: /Users/eugene/Github/taxi_demand_predictor/data/raw/rides_2022-12.parquet\n",
      "Files in RAW_DATA_DIR: ['rides_2022-05.parquet', 'rides_2022-04.parquet', 'rides_2022-06.parquet', 'rides_2022-07.parquet', 'rides_2022-12.parquet', 'rides_2022-02.parquet', 'rides_2022-03.parquet', 'rides_2022-08.parquet', 'rides_2022-11.parquet', 'rides_2022-01.parquet', 'rides_2022-10.parquet', 'rides_2022-09.parquet']\n",
      "Successfully loaded file: /Users/eugene/Github/taxi_demand_predictor/data/raw/rides_2022-12.parquet\n",
      "            pickup_datetime  pickup_location_id\n",
      "0       2022-01-01 00:35:40                 142\n",
      "1       2022-01-01 00:33:43                 236\n",
      "2       2022-01-01 00:53:21                 166\n",
      "3       2022-01-01 00:25:21                 114\n",
      "4       2022-01-01 00:36:48                  68\n",
      "...                     ...                 ...\n",
      "3399544 2022-12-31 23:46:00                  16\n",
      "3399545 2022-12-31 23:13:24                  75\n",
      "3399546 2022-12-31 23:00:49                 168\n",
      "3399547 2022-12-31 23:02:50                 238\n",
      "3399548 2022-12-31 23:00:15                  85\n",
      "\n",
      "[39654634 rows x 2 columns]\n"
     ]
    }
   ],
   "source": [
    "import sys\n",
    "import os\n",
    "\n",
    "# Get the absolute path to the project root\n",
    "project_root = os.path.abspath(os.path.join(os.getcwd(), '..'))\n",
    "src_path = os.path.join(project_root, 'src')\n",
    "sys.path.append(project_root)  # Add the project root to the Python path\n",
    "\n",
    "# Now you can import your custom modules\n",
    "from src.data import load_raw_data\n",
    "\n",
    "# Use the load_raw_data function\n",
    "rides = load_raw_data(year=2022)\n",
    "print(rides)\n"
   ]
  },
  {
   "cell_type": "code",
   "execution_count": 9,
   "metadata": {},
   "outputs": [
    {
     "name": "stderr",
     "output_type": "stream",
     "text": [
      "100%|██████████| 262/262 [00:07<00:00, 35.98it/s]\n"
     ]
    },
    {
     "data": {
      "text/html": [
       "<div>\n",
       "<style scoped>\n",
       "    .dataframe tbody tr th:only-of-type {\n",
       "        vertical-align: middle;\n",
       "    }\n",
       "\n",
       "    .dataframe tbody tr th {\n",
       "        vertical-align: top;\n",
       "    }\n",
       "\n",
       "    .dataframe thead th {\n",
       "        text-align: right;\n",
       "    }\n",
       "</style>\n",
       "<table border=\"1\" class=\"dataframe\">\n",
       "  <thead>\n",
       "    <tr style=\"text-align: right;\">\n",
       "      <th></th>\n",
       "      <th>pickup_hour</th>\n",
       "      <th>rides</th>\n",
       "      <th>pickup_location_id</th>\n",
       "    </tr>\n",
       "  </thead>\n",
       "  <tbody>\n",
       "    <tr>\n",
       "      <th>0</th>\n",
       "      <td>2022-01-01 00:00:00</td>\n",
       "      <td>11</td>\n",
       "      <td>4</td>\n",
       "    </tr>\n",
       "    <tr>\n",
       "      <th>1</th>\n",
       "      <td>2022-01-01 01:00:00</td>\n",
       "      <td>15</td>\n",
       "      <td>4</td>\n",
       "    </tr>\n",
       "    <tr>\n",
       "      <th>2</th>\n",
       "      <td>2022-01-01 02:00:00</td>\n",
       "      <td>26</td>\n",
       "      <td>4</td>\n",
       "    </tr>\n",
       "    <tr>\n",
       "      <th>3</th>\n",
       "      <td>2022-01-01 03:00:00</td>\n",
       "      <td>8</td>\n",
       "      <td>4</td>\n",
       "    </tr>\n",
       "    <tr>\n",
       "      <th>4</th>\n",
       "      <td>2022-01-01 04:00:00</td>\n",
       "      <td>9</td>\n",
       "      <td>4</td>\n",
       "    </tr>\n",
       "    <tr>\n",
       "      <th>...</th>\n",
       "      <td>...</td>\n",
       "      <td>...</td>\n",
       "      <td>...</td>\n",
       "    </tr>\n",
       "    <tr>\n",
       "      <th>2295115</th>\n",
       "      <td>2022-12-31 19:00:00</td>\n",
       "      <td>0</td>\n",
       "      <td>199</td>\n",
       "    </tr>\n",
       "    <tr>\n",
       "      <th>2295116</th>\n",
       "      <td>2022-12-31 20:00:00</td>\n",
       "      <td>0</td>\n",
       "      <td>199</td>\n",
       "    </tr>\n",
       "    <tr>\n",
       "      <th>2295117</th>\n",
       "      <td>2022-12-31 21:00:00</td>\n",
       "      <td>0</td>\n",
       "      <td>199</td>\n",
       "    </tr>\n",
       "    <tr>\n",
       "      <th>2295118</th>\n",
       "      <td>2022-12-31 22:00:00</td>\n",
       "      <td>0</td>\n",
       "      <td>199</td>\n",
       "    </tr>\n",
       "    <tr>\n",
       "      <th>2295119</th>\n",
       "      <td>2022-12-31 23:00:00</td>\n",
       "      <td>0</td>\n",
       "      <td>199</td>\n",
       "    </tr>\n",
       "  </tbody>\n",
       "</table>\n",
       "<p>2295120 rows × 3 columns</p>\n",
       "</div>"
      ],
      "text/plain": [
       "                pickup_hour  rides  pickup_location_id\n",
       "0       2022-01-01 00:00:00     11                   4\n",
       "1       2022-01-01 01:00:00     15                   4\n",
       "2       2022-01-01 02:00:00     26                   4\n",
       "3       2022-01-01 03:00:00      8                   4\n",
       "4       2022-01-01 04:00:00      9                   4\n",
       "...                     ...    ...                 ...\n",
       "2295115 2022-12-31 19:00:00      0                 199\n",
       "2295116 2022-12-31 20:00:00      0                 199\n",
       "2295117 2022-12-31 21:00:00      0                 199\n",
       "2295118 2022-12-31 22:00:00      0                 199\n",
       "2295119 2022-12-31 23:00:00      0                 199\n",
       "\n",
       "[2295120 rows x 3 columns]"
      ]
     },
     "execution_count": 9,
     "metadata": {},
     "output_type": "execute_result"
    }
   ],
   "source": [
    "from src.data import transform_raw_data_into_ts_data\n",
    "\n",
    "ts_data = transform_raw_data_into_ts_data(rides)\n",
    "ts_data"
   ]
  },
  {
   "cell_type": "code",
   "execution_count": 11,
   "metadata": {},
   "outputs": [
    {
     "name": "stderr",
     "output_type": "stream",
     "text": [
      "100%|██████████| 262/262 [00:48<00:00,  5.39it/s]"
     ]
    },
    {
     "name": "stdout",
     "output_type": "stream",
     "text": [
      "(88294, 674)\n",
      "(88294,)\n"
     ]
    },
    {
     "name": "stderr",
     "output_type": "stream",
     "text": [
      "\n"
     ]
    }
   ],
   "source": [
    "from src.data import transform_ts_data_into_features_and_target\n",
    "\n",
    "features, targets = transform_ts_data_into_features_and_target(\n",
    "    ts_data, \n",
    "    input_seq_len = 24*28*1,\n",
    "    step_size=24\n",
    ")\n",
    "\n",
    "print(f'{features.shape}')\n",
    "print(f'{targets.shape}')"
   ]
  },
  {
   "cell_type": "code",
   "execution_count": 14,
   "metadata": {},
   "outputs": [],
   "source": [
    "tabular_data = features\n",
    "tabular_data['target_rides_next_hour'] = targets\n",
    "\n",
    "from src.paths import TRANSFORMED_DATA_DIR\n",
    "tabular_data.to_parquet(TRANSFORMED_DATA_DIR / 'tabular_data.parquet')"
   ]
  },
  {
   "cell_type": "code",
   "execution_count": null,
   "metadata": {},
   "outputs": [],
   "source": []
  }
 ],
 "metadata": {
  "kernelspec": {
   "display_name": "Python 3",
   "language": "python",
   "name": "python3"
  },
  "language_info": {
   "codemirror_mode": {
    "name": "ipython",
    "version": 3
   },
   "file_extension": ".py",
   "mimetype": "text/x-python",
   "name": "python",
   "nbconvert_exporter": "python",
   "pygments_lexer": "ipython3",
   "version": "3.9.-1"
  }
 },
 "nbformat": 4,
 "nbformat_minor": 2
}
