{
 "cells": [
  {
   "cell_type": "code",
   "execution_count": 1,
   "metadata": {},
   "outputs": [],
   "source": [
    "HOPSWORKS_PROJECT_NAME = 'NYCTaxiDemand'"
   ]
  },
  {
   "cell_type": "code",
   "execution_count": 2,
   "metadata": {},
   "outputs": [],
   "source": [
    "import sys\n",
    "import os\n",
    "from dotenv import load_dotenv\n",
    "\n",
    "# Get the absolute path to the project root\n",
    "project_root = os.path.abspath(os.path.join(os.getcwd(), '..'))\n",
    "src_path = os.path.join(project_root, 'src')\n",
    "sys.path.append(project_root)  # Add the project root to the Python path\n",
    "\n",
    "# Now you can import your custom modules\n",
    "from src.paths import PARENT_DIR\n",
    "\n",
    "load_dotenv(PARENT_DIR / '.env')\n",
    "\n",
    "HOPSWORKS_API_KEY = os.environ['HOPSWORKS_API_KEY']"
   ]
  },
  {
   "cell_type": "code",
   "execution_count": 3,
   "metadata": {},
   "outputs": [
    {
     "name": "stdout",
     "output_type": "stream",
     "text": [
      "Downloading raw data from 2022 to 2024\n",
      "Checking for file: /Users/eugene/Github/taxi_demand_predictor/data/raw/rides_2022-01.parquet\n",
      "File 2022-01 was already in local storage: /Users/eugene/Github/taxi_demand_predictor/data/raw/rides_2022-01.parquet\n",
      "Files in RAW_DATA_DIR: ['rides_2024-01.parquet', 'rides_2023-03.parquet', 'rides_2022-05.parquet', 'rides_2023-02.parquet', 'rides_2023-12.parquet', 'rides_2022-04.parquet', 'rides_2023-10.parquet', 'rides_2022-06.parquet', 'rides_2023-09.parquet', 'rides_2024-02.parquet', 'rides_2023-08.parquet', 'rides_2024-03.parquet', 'rides_2023-01.parquet', 'rides_2023-11.parquet', 'rides_2022-07.parquet', 'rides_2022-12.parquet', 'rides_2022-02.parquet', 'rides_2023-04.parquet', 'rides_2022-03.parquet', 'rides_2023-05.parquet', 'rides_2022-08.parquet', 'rides_2022-11.parquet', 'rides_2022-01.parquet', 'rides_2023-07.parquet', 'rides_2022-10.parquet', 'rides_2023-06.parquet', 'rides_2022-09.parquet', 'rides_2024-04.parquet']\n",
      "Successfully loaded file: /Users/eugene/Github/taxi_demand_predictor/data/raw/rides_2022-01.parquet\n",
      "Checking for file: /Users/eugene/Github/taxi_demand_predictor/data/raw/rides_2022-02.parquet\n",
      "File 2022-02 was already in local storage: /Users/eugene/Github/taxi_demand_predictor/data/raw/rides_2022-02.parquet\n",
      "Files in RAW_DATA_DIR: ['rides_2024-01.parquet', 'rides_2023-03.parquet', 'rides_2022-05.parquet', 'rides_2023-02.parquet', 'rides_2023-12.parquet', 'rides_2022-04.parquet', 'rides_2023-10.parquet', 'rides_2022-06.parquet', 'rides_2023-09.parquet', 'rides_2024-02.parquet', 'rides_2023-08.parquet', 'rides_2024-03.parquet', 'rides_2023-01.parquet', 'rides_2023-11.parquet', 'rides_2022-07.parquet', 'rides_2022-12.parquet', 'rides_2022-02.parquet', 'rides_2023-04.parquet', 'rides_2022-03.parquet', 'rides_2023-05.parquet', 'rides_2022-08.parquet', 'rides_2022-11.parquet', 'rides_2022-01.parquet', 'rides_2023-07.parquet', 'rides_2022-10.parquet', 'rides_2023-06.parquet', 'rides_2022-09.parquet', 'rides_2024-04.parquet']\n",
      "Successfully loaded file: /Users/eugene/Github/taxi_demand_predictor/data/raw/rides_2022-02.parquet\n",
      "Checking for file: /Users/eugene/Github/taxi_demand_predictor/data/raw/rides_2022-03.parquet\n",
      "File 2022-03 was already in local storage: /Users/eugene/Github/taxi_demand_predictor/data/raw/rides_2022-03.parquet\n",
      "Files in RAW_DATA_DIR: ['rides_2024-01.parquet', 'rides_2023-03.parquet', 'rides_2022-05.parquet', 'rides_2023-02.parquet', 'rides_2023-12.parquet', 'rides_2022-04.parquet', 'rides_2023-10.parquet', 'rides_2022-06.parquet', 'rides_2023-09.parquet', 'rides_2024-02.parquet', 'rides_2023-08.parquet', 'rides_2024-03.parquet', 'rides_2023-01.parquet', 'rides_2023-11.parquet', 'rides_2022-07.parquet', 'rides_2022-12.parquet', 'rides_2022-02.parquet', 'rides_2023-04.parquet', 'rides_2022-03.parquet', 'rides_2023-05.parquet', 'rides_2022-08.parquet', 'rides_2022-11.parquet', 'rides_2022-01.parquet', 'rides_2023-07.parquet', 'rides_2022-10.parquet', 'rides_2023-06.parquet', 'rides_2022-09.parquet', 'rides_2024-04.parquet']\n",
      "Successfully loaded file: /Users/eugene/Github/taxi_demand_predictor/data/raw/rides_2022-03.parquet\n",
      "Checking for file: /Users/eugene/Github/taxi_demand_predictor/data/raw/rides_2022-04.parquet\n",
      "File 2022-04 was already in local storage: /Users/eugene/Github/taxi_demand_predictor/data/raw/rides_2022-04.parquet\n",
      "Files in RAW_DATA_DIR: ['rides_2024-01.parquet', 'rides_2023-03.parquet', 'rides_2022-05.parquet', 'rides_2023-02.parquet', 'rides_2023-12.parquet', 'rides_2022-04.parquet', 'rides_2023-10.parquet', 'rides_2022-06.parquet', 'rides_2023-09.parquet', 'rides_2024-02.parquet', 'rides_2023-08.parquet', 'rides_2024-03.parquet', 'rides_2023-01.parquet', 'rides_2023-11.parquet', 'rides_2022-07.parquet', 'rides_2022-12.parquet', 'rides_2022-02.parquet', 'rides_2023-04.parquet', 'rides_2022-03.parquet', 'rides_2023-05.parquet', 'rides_2022-08.parquet', 'rides_2022-11.parquet', 'rides_2022-01.parquet', 'rides_2023-07.parquet', 'rides_2022-10.parquet', 'rides_2023-06.parquet', 'rides_2022-09.parquet', 'rides_2024-04.parquet']\n",
      "Successfully loaded file: /Users/eugene/Github/taxi_demand_predictor/data/raw/rides_2022-04.parquet\n",
      "Checking for file: /Users/eugene/Github/taxi_demand_predictor/data/raw/rides_2022-05.parquet\n",
      "File 2022-05 was already in local storage: /Users/eugene/Github/taxi_demand_predictor/data/raw/rides_2022-05.parquet\n",
      "Files in RAW_DATA_DIR: ['rides_2024-01.parquet', 'rides_2023-03.parquet', 'rides_2022-05.parquet', 'rides_2023-02.parquet', 'rides_2023-12.parquet', 'rides_2022-04.parquet', 'rides_2023-10.parquet', 'rides_2022-06.parquet', 'rides_2023-09.parquet', 'rides_2024-02.parquet', 'rides_2023-08.parquet', 'rides_2024-03.parquet', 'rides_2023-01.parquet', 'rides_2023-11.parquet', 'rides_2022-07.parquet', 'rides_2022-12.parquet', 'rides_2022-02.parquet', 'rides_2023-04.parquet', 'rides_2022-03.parquet', 'rides_2023-05.parquet', 'rides_2022-08.parquet', 'rides_2022-11.parquet', 'rides_2022-01.parquet', 'rides_2023-07.parquet', 'rides_2022-10.parquet', 'rides_2023-06.parquet', 'rides_2022-09.parquet', 'rides_2024-04.parquet']\n",
      "Successfully loaded file: /Users/eugene/Github/taxi_demand_predictor/data/raw/rides_2022-05.parquet\n",
      "Checking for file: /Users/eugene/Github/taxi_demand_predictor/data/raw/rides_2022-06.parquet\n",
      "File 2022-06 was already in local storage: /Users/eugene/Github/taxi_demand_predictor/data/raw/rides_2022-06.parquet\n",
      "Files in RAW_DATA_DIR: ['rides_2024-01.parquet', 'rides_2023-03.parquet', 'rides_2022-05.parquet', 'rides_2023-02.parquet', 'rides_2023-12.parquet', 'rides_2022-04.parquet', 'rides_2023-10.parquet', 'rides_2022-06.parquet', 'rides_2023-09.parquet', 'rides_2024-02.parquet', 'rides_2023-08.parquet', 'rides_2024-03.parquet', 'rides_2023-01.parquet', 'rides_2023-11.parquet', 'rides_2022-07.parquet', 'rides_2022-12.parquet', 'rides_2022-02.parquet', 'rides_2023-04.parquet', 'rides_2022-03.parquet', 'rides_2023-05.parquet', 'rides_2022-08.parquet', 'rides_2022-11.parquet', 'rides_2022-01.parquet', 'rides_2023-07.parquet', 'rides_2022-10.parquet', 'rides_2023-06.parquet', 'rides_2022-09.parquet', 'rides_2024-04.parquet']\n",
      "Successfully loaded file: /Users/eugene/Github/taxi_demand_predictor/data/raw/rides_2022-06.parquet\n",
      "Checking for file: /Users/eugene/Github/taxi_demand_predictor/data/raw/rides_2022-07.parquet\n",
      "File 2022-07 was already in local storage: /Users/eugene/Github/taxi_demand_predictor/data/raw/rides_2022-07.parquet\n",
      "Files in RAW_DATA_DIR: ['rides_2024-01.parquet', 'rides_2023-03.parquet', 'rides_2022-05.parquet', 'rides_2023-02.parquet', 'rides_2023-12.parquet', 'rides_2022-04.parquet', 'rides_2023-10.parquet', 'rides_2022-06.parquet', 'rides_2023-09.parquet', 'rides_2024-02.parquet', 'rides_2023-08.parquet', 'rides_2024-03.parquet', 'rides_2023-01.parquet', 'rides_2023-11.parquet', 'rides_2022-07.parquet', 'rides_2022-12.parquet', 'rides_2022-02.parquet', 'rides_2023-04.parquet', 'rides_2022-03.parquet', 'rides_2023-05.parquet', 'rides_2022-08.parquet', 'rides_2022-11.parquet', 'rides_2022-01.parquet', 'rides_2023-07.parquet', 'rides_2022-10.parquet', 'rides_2023-06.parquet', 'rides_2022-09.parquet', 'rides_2024-04.parquet']\n",
      "Successfully loaded file: /Users/eugene/Github/taxi_demand_predictor/data/raw/rides_2022-07.parquet\n",
      "Checking for file: /Users/eugene/Github/taxi_demand_predictor/data/raw/rides_2022-08.parquet\n",
      "File 2022-08 was already in local storage: /Users/eugene/Github/taxi_demand_predictor/data/raw/rides_2022-08.parquet\n",
      "Files in RAW_DATA_DIR: ['rides_2024-01.parquet', 'rides_2023-03.parquet', 'rides_2022-05.parquet', 'rides_2023-02.parquet', 'rides_2023-12.parquet', 'rides_2022-04.parquet', 'rides_2023-10.parquet', 'rides_2022-06.parquet', 'rides_2023-09.parquet', 'rides_2024-02.parquet', 'rides_2023-08.parquet', 'rides_2024-03.parquet', 'rides_2023-01.parquet', 'rides_2023-11.parquet', 'rides_2022-07.parquet', 'rides_2022-12.parquet', 'rides_2022-02.parquet', 'rides_2023-04.parquet', 'rides_2022-03.parquet', 'rides_2023-05.parquet', 'rides_2022-08.parquet', 'rides_2022-11.parquet', 'rides_2022-01.parquet', 'rides_2023-07.parquet', 'rides_2022-10.parquet', 'rides_2023-06.parquet', 'rides_2022-09.parquet', 'rides_2024-04.parquet']\n",
      "Successfully loaded file: /Users/eugene/Github/taxi_demand_predictor/data/raw/rides_2022-08.parquet\n",
      "Checking for file: /Users/eugene/Github/taxi_demand_predictor/data/raw/rides_2022-09.parquet\n",
      "File 2022-09 was already in local storage: /Users/eugene/Github/taxi_demand_predictor/data/raw/rides_2022-09.parquet\n",
      "Files in RAW_DATA_DIR: ['rides_2024-01.parquet', 'rides_2023-03.parquet', 'rides_2022-05.parquet', 'rides_2023-02.parquet', 'rides_2023-12.parquet', 'rides_2022-04.parquet', 'rides_2023-10.parquet', 'rides_2022-06.parquet', 'rides_2023-09.parquet', 'rides_2024-02.parquet', 'rides_2023-08.parquet', 'rides_2024-03.parquet', 'rides_2023-01.parquet', 'rides_2023-11.parquet', 'rides_2022-07.parquet', 'rides_2022-12.parquet', 'rides_2022-02.parquet', 'rides_2023-04.parquet', 'rides_2022-03.parquet', 'rides_2023-05.parquet', 'rides_2022-08.parquet', 'rides_2022-11.parquet', 'rides_2022-01.parquet', 'rides_2023-07.parquet', 'rides_2022-10.parquet', 'rides_2023-06.parquet', 'rides_2022-09.parquet', 'rides_2024-04.parquet']\n",
      "Successfully loaded file: /Users/eugene/Github/taxi_demand_predictor/data/raw/rides_2022-09.parquet\n",
      "Checking for file: /Users/eugene/Github/taxi_demand_predictor/data/raw/rides_2022-10.parquet\n",
      "File 2022-10 was already in local storage: /Users/eugene/Github/taxi_demand_predictor/data/raw/rides_2022-10.parquet\n",
      "Files in RAW_DATA_DIR: ['rides_2024-01.parquet', 'rides_2023-03.parquet', 'rides_2022-05.parquet', 'rides_2023-02.parquet', 'rides_2023-12.parquet', 'rides_2022-04.parquet', 'rides_2023-10.parquet', 'rides_2022-06.parquet', 'rides_2023-09.parquet', 'rides_2024-02.parquet', 'rides_2023-08.parquet', 'rides_2024-03.parquet', 'rides_2023-01.parquet', 'rides_2023-11.parquet', 'rides_2022-07.parquet', 'rides_2022-12.parquet', 'rides_2022-02.parquet', 'rides_2023-04.parquet', 'rides_2022-03.parquet', 'rides_2023-05.parquet', 'rides_2022-08.parquet', 'rides_2022-11.parquet', 'rides_2022-01.parquet', 'rides_2023-07.parquet', 'rides_2022-10.parquet', 'rides_2023-06.parquet', 'rides_2022-09.parquet', 'rides_2024-04.parquet']\n",
      "Successfully loaded file: /Users/eugene/Github/taxi_demand_predictor/data/raw/rides_2022-10.parquet\n",
      "Checking for file: /Users/eugene/Github/taxi_demand_predictor/data/raw/rides_2022-11.parquet\n",
      "File 2022-11 was already in local storage: /Users/eugene/Github/taxi_demand_predictor/data/raw/rides_2022-11.parquet\n",
      "Files in RAW_DATA_DIR: ['rides_2024-01.parquet', 'rides_2023-03.parquet', 'rides_2022-05.parquet', 'rides_2023-02.parquet', 'rides_2023-12.parquet', 'rides_2022-04.parquet', 'rides_2023-10.parquet', 'rides_2022-06.parquet', 'rides_2023-09.parquet', 'rides_2024-02.parquet', 'rides_2023-08.parquet', 'rides_2024-03.parquet', 'rides_2023-01.parquet', 'rides_2023-11.parquet', 'rides_2022-07.parquet', 'rides_2022-12.parquet', 'rides_2022-02.parquet', 'rides_2023-04.parquet', 'rides_2022-03.parquet', 'rides_2023-05.parquet', 'rides_2022-08.parquet', 'rides_2022-11.parquet', 'rides_2022-01.parquet', 'rides_2023-07.parquet', 'rides_2022-10.parquet', 'rides_2023-06.parquet', 'rides_2022-09.parquet', 'rides_2024-04.parquet']\n",
      "Successfully loaded file: /Users/eugene/Github/taxi_demand_predictor/data/raw/rides_2022-11.parquet\n",
      "Checking for file: /Users/eugene/Github/taxi_demand_predictor/data/raw/rides_2022-12.parquet\n",
      "File 2022-12 was already in local storage: /Users/eugene/Github/taxi_demand_predictor/data/raw/rides_2022-12.parquet\n",
      "Files in RAW_DATA_DIR: ['rides_2024-01.parquet', 'rides_2023-03.parquet', 'rides_2022-05.parquet', 'rides_2023-02.parquet', 'rides_2023-12.parquet', 'rides_2022-04.parquet', 'rides_2023-10.parquet', 'rides_2022-06.parquet', 'rides_2023-09.parquet', 'rides_2024-02.parquet', 'rides_2023-08.parquet', 'rides_2024-03.parquet', 'rides_2023-01.parquet', 'rides_2023-11.parquet', 'rides_2022-07.parquet', 'rides_2022-12.parquet', 'rides_2022-02.parquet', 'rides_2023-04.parquet', 'rides_2022-03.parquet', 'rides_2023-05.parquet', 'rides_2022-08.parquet', 'rides_2022-11.parquet', 'rides_2022-01.parquet', 'rides_2023-07.parquet', 'rides_2022-10.parquet', 'rides_2023-06.parquet', 'rides_2022-09.parquet', 'rides_2024-04.parquet']\n",
      "Successfully loaded file: /Users/eugene/Github/taxi_demand_predictor/data/raw/rides_2022-12.parquet\n",
      "Checking for file: /Users/eugene/Github/taxi_demand_predictor/data/raw/rides_2023-01.parquet\n",
      "File 2023-01 was already in local storage: /Users/eugene/Github/taxi_demand_predictor/data/raw/rides_2023-01.parquet\n",
      "Files in RAW_DATA_DIR: ['rides_2024-01.parquet', 'rides_2023-03.parquet', 'rides_2022-05.parquet', 'rides_2023-02.parquet', 'rides_2023-12.parquet', 'rides_2022-04.parquet', 'rides_2023-10.parquet', 'rides_2022-06.parquet', 'rides_2023-09.parquet', 'rides_2024-02.parquet', 'rides_2023-08.parquet', 'rides_2024-03.parquet', 'rides_2023-01.parquet', 'rides_2023-11.parquet', 'rides_2022-07.parquet', 'rides_2022-12.parquet', 'rides_2022-02.parquet', 'rides_2023-04.parquet', 'rides_2022-03.parquet', 'rides_2023-05.parquet', 'rides_2022-08.parquet', 'rides_2022-11.parquet', 'rides_2022-01.parquet', 'rides_2023-07.parquet', 'rides_2022-10.parquet', 'rides_2023-06.parquet', 'rides_2022-09.parquet', 'rides_2024-04.parquet']\n",
      "Successfully loaded file: /Users/eugene/Github/taxi_demand_predictor/data/raw/rides_2023-01.parquet\n",
      "Checking for file: /Users/eugene/Github/taxi_demand_predictor/data/raw/rides_2023-02.parquet\n",
      "File 2023-02 was already in local storage: /Users/eugene/Github/taxi_demand_predictor/data/raw/rides_2023-02.parquet\n",
      "Files in RAW_DATA_DIR: ['rides_2024-01.parquet', 'rides_2023-03.parquet', 'rides_2022-05.parquet', 'rides_2023-02.parquet', 'rides_2023-12.parquet', 'rides_2022-04.parquet', 'rides_2023-10.parquet', 'rides_2022-06.parquet', 'rides_2023-09.parquet', 'rides_2024-02.parquet', 'rides_2023-08.parquet', 'rides_2024-03.parquet', 'rides_2023-01.parquet', 'rides_2023-11.parquet', 'rides_2022-07.parquet', 'rides_2022-12.parquet', 'rides_2022-02.parquet', 'rides_2023-04.parquet', 'rides_2022-03.parquet', 'rides_2023-05.parquet', 'rides_2022-08.parquet', 'rides_2022-11.parquet', 'rides_2022-01.parquet', 'rides_2023-07.parquet', 'rides_2022-10.parquet', 'rides_2023-06.parquet', 'rides_2022-09.parquet', 'rides_2024-04.parquet']\n",
      "Successfully loaded file: /Users/eugene/Github/taxi_demand_predictor/data/raw/rides_2023-02.parquet\n",
      "Checking for file: /Users/eugene/Github/taxi_demand_predictor/data/raw/rides_2023-03.parquet\n",
      "File 2023-03 was already in local storage: /Users/eugene/Github/taxi_demand_predictor/data/raw/rides_2023-03.parquet\n",
      "Files in RAW_DATA_DIR: ['rides_2024-01.parquet', 'rides_2023-03.parquet', 'rides_2022-05.parquet', 'rides_2023-02.parquet', 'rides_2023-12.parquet', 'rides_2022-04.parquet', 'rides_2023-10.parquet', 'rides_2022-06.parquet', 'rides_2023-09.parquet', 'rides_2024-02.parquet', 'rides_2023-08.parquet', 'rides_2024-03.parquet', 'rides_2023-01.parquet', 'rides_2023-11.parquet', 'rides_2022-07.parquet', 'rides_2022-12.parquet', 'rides_2022-02.parquet', 'rides_2023-04.parquet', 'rides_2022-03.parquet', 'rides_2023-05.parquet', 'rides_2022-08.parquet', 'rides_2022-11.parquet', 'rides_2022-01.parquet', 'rides_2023-07.parquet', 'rides_2022-10.parquet', 'rides_2023-06.parquet', 'rides_2022-09.parquet', 'rides_2024-04.parquet']\n",
      "Successfully loaded file: /Users/eugene/Github/taxi_demand_predictor/data/raw/rides_2023-03.parquet\n",
      "Checking for file: /Users/eugene/Github/taxi_demand_predictor/data/raw/rides_2023-04.parquet\n",
      "File 2023-04 was already in local storage: /Users/eugene/Github/taxi_demand_predictor/data/raw/rides_2023-04.parquet\n",
      "Files in RAW_DATA_DIR: ['rides_2024-01.parquet', 'rides_2023-03.parquet', 'rides_2022-05.parquet', 'rides_2023-02.parquet', 'rides_2023-12.parquet', 'rides_2022-04.parquet', 'rides_2023-10.parquet', 'rides_2022-06.parquet', 'rides_2023-09.parquet', 'rides_2024-02.parquet', 'rides_2023-08.parquet', 'rides_2024-03.parquet', 'rides_2023-01.parquet', 'rides_2023-11.parquet', 'rides_2022-07.parquet', 'rides_2022-12.parquet', 'rides_2022-02.parquet', 'rides_2023-04.parquet', 'rides_2022-03.parquet', 'rides_2023-05.parquet', 'rides_2022-08.parquet', 'rides_2022-11.parquet', 'rides_2022-01.parquet', 'rides_2023-07.parquet', 'rides_2022-10.parquet', 'rides_2023-06.parquet', 'rides_2022-09.parquet', 'rides_2024-04.parquet']\n",
      "Successfully loaded file: /Users/eugene/Github/taxi_demand_predictor/data/raw/rides_2023-04.parquet\n",
      "Checking for file: /Users/eugene/Github/taxi_demand_predictor/data/raw/rides_2023-05.parquet\n",
      "File 2023-05 was already in local storage: /Users/eugene/Github/taxi_demand_predictor/data/raw/rides_2023-05.parquet\n",
      "Files in RAW_DATA_DIR: ['rides_2024-01.parquet', 'rides_2023-03.parquet', 'rides_2022-05.parquet', 'rides_2023-02.parquet', 'rides_2023-12.parquet', 'rides_2022-04.parquet', 'rides_2023-10.parquet', 'rides_2022-06.parquet', 'rides_2023-09.parquet', 'rides_2024-02.parquet', 'rides_2023-08.parquet', 'rides_2024-03.parquet', 'rides_2023-01.parquet', 'rides_2023-11.parquet', 'rides_2022-07.parquet', 'rides_2022-12.parquet', 'rides_2022-02.parquet', 'rides_2023-04.parquet', 'rides_2022-03.parquet', 'rides_2023-05.parquet', 'rides_2022-08.parquet', 'rides_2022-11.parquet', 'rides_2022-01.parquet', 'rides_2023-07.parquet', 'rides_2022-10.parquet', 'rides_2023-06.parquet', 'rides_2022-09.parquet', 'rides_2024-04.parquet']\n",
      "Successfully loaded file: /Users/eugene/Github/taxi_demand_predictor/data/raw/rides_2023-05.parquet\n",
      "Checking for file: /Users/eugene/Github/taxi_demand_predictor/data/raw/rides_2023-06.parquet\n",
      "File 2023-06 was already in local storage: /Users/eugene/Github/taxi_demand_predictor/data/raw/rides_2023-06.parquet\n",
      "Files in RAW_DATA_DIR: ['rides_2024-01.parquet', 'rides_2023-03.parquet', 'rides_2022-05.parquet', 'rides_2023-02.parquet', 'rides_2023-12.parquet', 'rides_2022-04.parquet', 'rides_2023-10.parquet', 'rides_2022-06.parquet', 'rides_2023-09.parquet', 'rides_2024-02.parquet', 'rides_2023-08.parquet', 'rides_2024-03.parquet', 'rides_2023-01.parquet', 'rides_2023-11.parquet', 'rides_2022-07.parquet', 'rides_2022-12.parquet', 'rides_2022-02.parquet', 'rides_2023-04.parquet', 'rides_2022-03.parquet', 'rides_2023-05.parquet', 'rides_2022-08.parquet', 'rides_2022-11.parquet', 'rides_2022-01.parquet', 'rides_2023-07.parquet', 'rides_2022-10.parquet', 'rides_2023-06.parquet', 'rides_2022-09.parquet', 'rides_2024-04.parquet']\n",
      "Successfully loaded file: /Users/eugene/Github/taxi_demand_predictor/data/raw/rides_2023-06.parquet\n",
      "Checking for file: /Users/eugene/Github/taxi_demand_predictor/data/raw/rides_2023-07.parquet\n",
      "File 2023-07 was already in local storage: /Users/eugene/Github/taxi_demand_predictor/data/raw/rides_2023-07.parquet\n",
      "Files in RAW_DATA_DIR: ['rides_2024-01.parquet', 'rides_2023-03.parquet', 'rides_2022-05.parquet', 'rides_2023-02.parquet', 'rides_2023-12.parquet', 'rides_2022-04.parquet', 'rides_2023-10.parquet', 'rides_2022-06.parquet', 'rides_2023-09.parquet', 'rides_2024-02.parquet', 'rides_2023-08.parquet', 'rides_2024-03.parquet', 'rides_2023-01.parquet', 'rides_2023-11.parquet', 'rides_2022-07.parquet', 'rides_2022-12.parquet', 'rides_2022-02.parquet', 'rides_2023-04.parquet', 'rides_2022-03.parquet', 'rides_2023-05.parquet', 'rides_2022-08.parquet', 'rides_2022-11.parquet', 'rides_2022-01.parquet', 'rides_2023-07.parquet', 'rides_2022-10.parquet', 'rides_2023-06.parquet', 'rides_2022-09.parquet', 'rides_2024-04.parquet']\n",
      "Successfully loaded file: /Users/eugene/Github/taxi_demand_predictor/data/raw/rides_2023-07.parquet\n",
      "Checking for file: /Users/eugene/Github/taxi_demand_predictor/data/raw/rides_2023-08.parquet\n",
      "File 2023-08 was already in local storage: /Users/eugene/Github/taxi_demand_predictor/data/raw/rides_2023-08.parquet\n",
      "Files in RAW_DATA_DIR: ['rides_2024-01.parquet', 'rides_2023-03.parquet', 'rides_2022-05.parquet', 'rides_2023-02.parquet', 'rides_2023-12.parquet', 'rides_2022-04.parquet', 'rides_2023-10.parquet', 'rides_2022-06.parquet', 'rides_2023-09.parquet', 'rides_2024-02.parquet', 'rides_2023-08.parquet', 'rides_2024-03.parquet', 'rides_2023-01.parquet', 'rides_2023-11.parquet', 'rides_2022-07.parquet', 'rides_2022-12.parquet', 'rides_2022-02.parquet', 'rides_2023-04.parquet', 'rides_2022-03.parquet', 'rides_2023-05.parquet', 'rides_2022-08.parquet', 'rides_2022-11.parquet', 'rides_2022-01.parquet', 'rides_2023-07.parquet', 'rides_2022-10.parquet', 'rides_2023-06.parquet', 'rides_2022-09.parquet', 'rides_2024-04.parquet']\n",
      "Successfully loaded file: /Users/eugene/Github/taxi_demand_predictor/data/raw/rides_2023-08.parquet\n",
      "Checking for file: /Users/eugene/Github/taxi_demand_predictor/data/raw/rides_2023-09.parquet\n",
      "File 2023-09 was already in local storage: /Users/eugene/Github/taxi_demand_predictor/data/raw/rides_2023-09.parquet\n",
      "Files in RAW_DATA_DIR: ['rides_2024-01.parquet', 'rides_2023-03.parquet', 'rides_2022-05.parquet', 'rides_2023-02.parquet', 'rides_2023-12.parquet', 'rides_2022-04.parquet', 'rides_2023-10.parquet', 'rides_2022-06.parquet', 'rides_2023-09.parquet', 'rides_2024-02.parquet', 'rides_2023-08.parquet', 'rides_2024-03.parquet', 'rides_2023-01.parquet', 'rides_2023-11.parquet', 'rides_2022-07.parquet', 'rides_2022-12.parquet', 'rides_2022-02.parquet', 'rides_2023-04.parquet', 'rides_2022-03.parquet', 'rides_2023-05.parquet', 'rides_2022-08.parquet', 'rides_2022-11.parquet', 'rides_2022-01.parquet', 'rides_2023-07.parquet', 'rides_2022-10.parquet', 'rides_2023-06.parquet', 'rides_2022-09.parquet', 'rides_2024-04.parquet']\n",
      "Successfully loaded file: /Users/eugene/Github/taxi_demand_predictor/data/raw/rides_2023-09.parquet\n",
      "Checking for file: /Users/eugene/Github/taxi_demand_predictor/data/raw/rides_2023-10.parquet\n",
      "File 2023-10 was already in local storage: /Users/eugene/Github/taxi_demand_predictor/data/raw/rides_2023-10.parquet\n",
      "Files in RAW_DATA_DIR: ['rides_2024-01.parquet', 'rides_2023-03.parquet', 'rides_2022-05.parquet', 'rides_2023-02.parquet', 'rides_2023-12.parquet', 'rides_2022-04.parquet', 'rides_2023-10.parquet', 'rides_2022-06.parquet', 'rides_2023-09.parquet', 'rides_2024-02.parquet', 'rides_2023-08.parquet', 'rides_2024-03.parquet', 'rides_2023-01.parquet', 'rides_2023-11.parquet', 'rides_2022-07.parquet', 'rides_2022-12.parquet', 'rides_2022-02.parquet', 'rides_2023-04.parquet', 'rides_2022-03.parquet', 'rides_2023-05.parquet', 'rides_2022-08.parquet', 'rides_2022-11.parquet', 'rides_2022-01.parquet', 'rides_2023-07.parquet', 'rides_2022-10.parquet', 'rides_2023-06.parquet', 'rides_2022-09.parquet', 'rides_2024-04.parquet']\n",
      "Successfully loaded file: /Users/eugene/Github/taxi_demand_predictor/data/raw/rides_2023-10.parquet\n",
      "Checking for file: /Users/eugene/Github/taxi_demand_predictor/data/raw/rides_2023-11.parquet\n",
      "File 2023-11 was already in local storage: /Users/eugene/Github/taxi_demand_predictor/data/raw/rides_2023-11.parquet\n",
      "Files in RAW_DATA_DIR: ['rides_2024-01.parquet', 'rides_2023-03.parquet', 'rides_2022-05.parquet', 'rides_2023-02.parquet', 'rides_2023-12.parquet', 'rides_2022-04.parquet', 'rides_2023-10.parquet', 'rides_2022-06.parquet', 'rides_2023-09.parquet', 'rides_2024-02.parquet', 'rides_2023-08.parquet', 'rides_2024-03.parquet', 'rides_2023-01.parquet', 'rides_2023-11.parquet', 'rides_2022-07.parquet', 'rides_2022-12.parquet', 'rides_2022-02.parquet', 'rides_2023-04.parquet', 'rides_2022-03.parquet', 'rides_2023-05.parquet', 'rides_2022-08.parquet', 'rides_2022-11.parquet', 'rides_2022-01.parquet', 'rides_2023-07.parquet', 'rides_2022-10.parquet', 'rides_2023-06.parquet', 'rides_2022-09.parquet', 'rides_2024-04.parquet']\n",
      "Successfully loaded file: /Users/eugene/Github/taxi_demand_predictor/data/raw/rides_2023-11.parquet\n",
      "Checking for file: /Users/eugene/Github/taxi_demand_predictor/data/raw/rides_2023-12.parquet\n",
      "File 2023-12 was already in local storage: /Users/eugene/Github/taxi_demand_predictor/data/raw/rides_2023-12.parquet\n",
      "Files in RAW_DATA_DIR: ['rides_2024-01.parquet', 'rides_2023-03.parquet', 'rides_2022-05.parquet', 'rides_2023-02.parquet', 'rides_2023-12.parquet', 'rides_2022-04.parquet', 'rides_2023-10.parquet', 'rides_2022-06.parquet', 'rides_2023-09.parquet', 'rides_2024-02.parquet', 'rides_2023-08.parquet', 'rides_2024-03.parquet', 'rides_2023-01.parquet', 'rides_2023-11.parquet', 'rides_2022-07.parquet', 'rides_2022-12.parquet', 'rides_2022-02.parquet', 'rides_2023-04.parquet', 'rides_2022-03.parquet', 'rides_2023-05.parquet', 'rides_2022-08.parquet', 'rides_2022-11.parquet', 'rides_2022-01.parquet', 'rides_2023-07.parquet', 'rides_2022-10.parquet', 'rides_2023-06.parquet', 'rides_2022-09.parquet', 'rides_2024-04.parquet']\n",
      "Successfully loaded file: /Users/eugene/Github/taxi_demand_predictor/data/raw/rides_2023-12.parquet\n",
      "Checking for file: /Users/eugene/Github/taxi_demand_predictor/data/raw/rides_2024-01.parquet\n",
      "File 2024-01 was already in local storage: /Users/eugene/Github/taxi_demand_predictor/data/raw/rides_2024-01.parquet\n",
      "Files in RAW_DATA_DIR: ['rides_2024-01.parquet', 'rides_2023-03.parquet', 'rides_2022-05.parquet', 'rides_2023-02.parquet', 'rides_2023-12.parquet', 'rides_2022-04.parquet', 'rides_2023-10.parquet', 'rides_2022-06.parquet', 'rides_2023-09.parquet', 'rides_2024-02.parquet', 'rides_2023-08.parquet', 'rides_2024-03.parquet', 'rides_2023-01.parquet', 'rides_2023-11.parquet', 'rides_2022-07.parquet', 'rides_2022-12.parquet', 'rides_2022-02.parquet', 'rides_2023-04.parquet', 'rides_2022-03.parquet', 'rides_2023-05.parquet', 'rides_2022-08.parquet', 'rides_2022-11.parquet', 'rides_2022-01.parquet', 'rides_2023-07.parquet', 'rides_2022-10.parquet', 'rides_2023-06.parquet', 'rides_2022-09.parquet', 'rides_2024-04.parquet']\n",
      "Successfully loaded file: /Users/eugene/Github/taxi_demand_predictor/data/raw/rides_2024-01.parquet\n",
      "Checking for file: /Users/eugene/Github/taxi_demand_predictor/data/raw/rides_2024-02.parquet\n",
      "File 2024-02 was already in local storage: /Users/eugene/Github/taxi_demand_predictor/data/raw/rides_2024-02.parquet\n",
      "Files in RAW_DATA_DIR: ['rides_2024-01.parquet', 'rides_2023-03.parquet', 'rides_2022-05.parquet', 'rides_2023-02.parquet', 'rides_2023-12.parquet', 'rides_2022-04.parquet', 'rides_2023-10.parquet', 'rides_2022-06.parquet', 'rides_2023-09.parquet', 'rides_2024-02.parquet', 'rides_2023-08.parquet', 'rides_2024-03.parquet', 'rides_2023-01.parquet', 'rides_2023-11.parquet', 'rides_2022-07.parquet', 'rides_2022-12.parquet', 'rides_2022-02.parquet', 'rides_2023-04.parquet', 'rides_2022-03.parquet', 'rides_2023-05.parquet', 'rides_2022-08.parquet', 'rides_2022-11.parquet', 'rides_2022-01.parquet', 'rides_2023-07.parquet', 'rides_2022-10.parquet', 'rides_2023-06.parquet', 'rides_2022-09.parquet', 'rides_2024-04.parquet']\n",
      "Successfully loaded file: /Users/eugene/Github/taxi_demand_predictor/data/raw/rides_2024-02.parquet\n",
      "Checking for file: /Users/eugene/Github/taxi_demand_predictor/data/raw/rides_2024-03.parquet\n",
      "File 2024-03 was already in local storage: /Users/eugene/Github/taxi_demand_predictor/data/raw/rides_2024-03.parquet\n",
      "Files in RAW_DATA_DIR: ['rides_2024-01.parquet', 'rides_2023-03.parquet', 'rides_2022-05.parquet', 'rides_2023-02.parquet', 'rides_2023-12.parquet', 'rides_2022-04.parquet', 'rides_2023-10.parquet', 'rides_2022-06.parquet', 'rides_2023-09.parquet', 'rides_2024-02.parquet', 'rides_2023-08.parquet', 'rides_2024-03.parquet', 'rides_2023-01.parquet', 'rides_2023-11.parquet', 'rides_2022-07.parquet', 'rides_2022-12.parquet', 'rides_2022-02.parquet', 'rides_2023-04.parquet', 'rides_2022-03.parquet', 'rides_2023-05.parquet', 'rides_2022-08.parquet', 'rides_2022-11.parquet', 'rides_2022-01.parquet', 'rides_2023-07.parquet', 'rides_2022-10.parquet', 'rides_2023-06.parquet', 'rides_2022-09.parquet', 'rides_2024-04.parquet']\n",
      "Successfully loaded file: /Users/eugene/Github/taxi_demand_predictor/data/raw/rides_2024-03.parquet\n",
      "Checking for file: /Users/eugene/Github/taxi_demand_predictor/data/raw/rides_2024-04.parquet\n",
      "File 2024-04 was already in local storage: /Users/eugene/Github/taxi_demand_predictor/data/raw/rides_2024-04.parquet\n",
      "Files in RAW_DATA_DIR: ['rides_2024-01.parquet', 'rides_2023-03.parquet', 'rides_2022-05.parquet', 'rides_2023-02.parquet', 'rides_2023-12.parquet', 'rides_2022-04.parquet', 'rides_2023-10.parquet', 'rides_2022-06.parquet', 'rides_2023-09.parquet', 'rides_2024-02.parquet', 'rides_2023-08.parquet', 'rides_2024-03.parquet', 'rides_2023-01.parquet', 'rides_2023-11.parquet', 'rides_2022-07.parquet', 'rides_2022-12.parquet', 'rides_2022-02.parquet', 'rides_2023-04.parquet', 'rides_2022-03.parquet', 'rides_2023-05.parquet', 'rides_2022-08.parquet', 'rides_2022-11.parquet', 'rides_2022-01.parquet', 'rides_2023-07.parquet', 'rides_2022-10.parquet', 'rides_2023-06.parquet', 'rides_2022-09.parquet', 'rides_2024-04.parquet']\n",
      "Successfully loaded file: /Users/eugene/Github/taxi_demand_predictor/data/raw/rides_2024-04.parquet\n",
      "Checking for file: /Users/eugene/Github/taxi_demand_predictor/data/raw/rides_2024-05.parquet\n",
      "Downloading file 2024-05\n",
      "Attempting to download from URL: https://d37ci6vzurychx.cloudfront.net/trip-data/yellow_tripdata_2024-05.parquet\n",
      "Response status code: 403\n",
      "2024-05 file is not available: https://d37ci6vzurychx.cloudfront.net/trip-data/yellow_tripdata_2024-05.parquet is not available\n",
      "Checking for file: /Users/eugene/Github/taxi_demand_predictor/data/raw/rides_2024-06.parquet\n",
      "Downloading file 2024-06\n",
      "Attempting to download from URL: https://d37ci6vzurychx.cloudfront.net/trip-data/yellow_tripdata_2024-06.parquet\n",
      "Response status code: 403\n",
      "2024-06 file is not available: https://d37ci6vzurychx.cloudfront.net/trip-data/yellow_tripdata_2024-06.parquet is not available\n",
      "Checking for file: /Users/eugene/Github/taxi_demand_predictor/data/raw/rides_2024-07.parquet\n",
      "Downloading file 2024-07\n",
      "Attempting to download from URL: https://d37ci6vzurychx.cloudfront.net/trip-data/yellow_tripdata_2024-07.parquet\n",
      "Response status code: 403\n",
      "2024-07 file is not available: https://d37ci6vzurychx.cloudfront.net/trip-data/yellow_tripdata_2024-07.parquet is not available\n",
      "Checking for file: /Users/eugene/Github/taxi_demand_predictor/data/raw/rides_2024-08.parquet\n",
      "Downloading file 2024-08\n",
      "Attempting to download from URL: https://d37ci6vzurychx.cloudfront.net/trip-data/yellow_tripdata_2024-08.parquet\n",
      "Response status code: 403\n",
      "2024-08 file is not available: https://d37ci6vzurychx.cloudfront.net/trip-data/yellow_tripdata_2024-08.parquet is not available\n",
      "Checking for file: /Users/eugene/Github/taxi_demand_predictor/data/raw/rides_2024-09.parquet\n",
      "Downloading file 2024-09\n",
      "Attempting to download from URL: https://d37ci6vzurychx.cloudfront.net/trip-data/yellow_tripdata_2024-09.parquet\n",
      "Response status code: 403\n",
      "2024-09 file is not available: https://d37ci6vzurychx.cloudfront.net/trip-data/yellow_tripdata_2024-09.parquet is not available\n",
      "Checking for file: /Users/eugene/Github/taxi_demand_predictor/data/raw/rides_2024-10.parquet\n",
      "Downloading file 2024-10\n",
      "Attempting to download from URL: https://d37ci6vzurychx.cloudfront.net/trip-data/yellow_tripdata_2024-10.parquet\n",
      "Response status code: 403\n",
      "2024-10 file is not available: https://d37ci6vzurychx.cloudfront.net/trip-data/yellow_tripdata_2024-10.parquet is not available\n",
      "Checking for file: /Users/eugene/Github/taxi_demand_predictor/data/raw/rides_2024-11.parquet\n",
      "Downloading file 2024-11\n",
      "Attempting to download from URL: https://d37ci6vzurychx.cloudfront.net/trip-data/yellow_tripdata_2024-11.parquet\n",
      "Response status code: 403\n",
      "2024-11 file is not available: https://d37ci6vzurychx.cloudfront.net/trip-data/yellow_tripdata_2024-11.parquet is not available\n",
      "Checking for file: /Users/eugene/Github/taxi_demand_predictor/data/raw/rides_2024-12.parquet\n",
      "Downloading file 2024-12\n",
      "Attempting to download from URL: https://d37ci6vzurychx.cloudfront.net/trip-data/yellow_tripdata_2024-12.parquet\n",
      "Response status code: 403\n",
      "2024-12 file is not available: https://d37ci6vzurychx.cloudfront.net/trip-data/yellow_tripdata_2024-12.parquet is not available\n"
     ]
    }
   ],
   "source": [
    "import sys\n",
    "import os\n",
    "from datetime import datetime\n",
    "import pandas as pd\n",
    "\n",
    "# Get the absolute path to the project root\n",
    "project_root = os.path.abspath(os.path.join(os.getcwd(), '..'))\n",
    "src_path = os.path.join(project_root, 'src')\n",
    "sys.path.append(project_root)  # Add the project root to the Python path\n",
    "\n",
    "from src.data import load_raw_data\n",
    "\n",
    "from_year = 2022\n",
    "to_year = datetime.now().year\n",
    "print(f'Downloading raw data from {from_year} to {to_year}')\n",
    "\n",
    "rides = pd.DataFrame()\n",
    "for year in range(from_year, to_year+1):\n",
    "    # download data for whole year\n",
    "    rides_one_year = load_raw_data(year)\n",
    "\n",
    "    # append rows\n",
    "    rides = pd.concat([rides, rides_one_year])"
   ]
  },
  {
   "cell_type": "code",
   "execution_count": 4,
   "metadata": {},
   "outputs": [
    {
     "name": "stdout",
     "output_type": "stream",
     "text": [
      "len(rides)=91033132\n"
     ]
    }
   ],
   "source": [
    "print(f'{len(rides)=}')"
   ]
  },
  {
   "cell_type": "code",
   "execution_count": 5,
   "metadata": {},
   "outputs": [
    {
     "name": "stderr",
     "output_type": "stream",
     "text": [
      "100%|██████████| 263/263 [00:20<00:00, 12.64it/s]\n"
     ]
    }
   ],
   "source": [
    "import sys\n",
    "import os\n",
    "\n",
    "# Get the absolute path to the project root\n",
    "project_root = os.path.abspath(os.path.join(os.getcwd(), '..'))\n",
    "src_path = os.path.join(project_root, 'src')\n",
    "sys.path.append(project_root)  # Add the project root to the Python path\n",
    "\n",
    "from src.data import transform_raw_data_into_ts_data\n",
    "\n",
    "ts_data = transform_raw_data_into_ts_data(rides)"
   ]
  },
  {
   "cell_type": "code",
   "execution_count": 6,
   "metadata": {},
   "outputs": [
    {
     "data": {
      "text/html": [
       "<div>\n",
       "<style scoped>\n",
       "    .dataframe tbody tr th:only-of-type {\n",
       "        vertical-align: middle;\n",
       "    }\n",
       "\n",
       "    .dataframe tbody tr th {\n",
       "        vertical-align: top;\n",
       "    }\n",
       "\n",
       "    .dataframe thead th {\n",
       "        text-align: right;\n",
       "    }\n",
       "</style>\n",
       "<table border=\"1\" class=\"dataframe\">\n",
       "  <thead>\n",
       "    <tr style=\"text-align: right;\">\n",
       "      <th></th>\n",
       "      <th>pickup_hour</th>\n",
       "      <th>rides</th>\n",
       "      <th>pickup_location_id</th>\n",
       "    </tr>\n",
       "  </thead>\n",
       "  <tbody>\n",
       "    <tr>\n",
       "      <th>0</th>\n",
       "      <td>2022-01-01 00:00:00</td>\n",
       "      <td>11</td>\n",
       "      <td>4</td>\n",
       "    </tr>\n",
       "    <tr>\n",
       "      <th>1</th>\n",
       "      <td>2022-01-01 01:00:00</td>\n",
       "      <td>15</td>\n",
       "      <td>4</td>\n",
       "    </tr>\n",
       "    <tr>\n",
       "      <th>2</th>\n",
       "      <td>2022-01-01 02:00:00</td>\n",
       "      <td>26</td>\n",
       "      <td>4</td>\n",
       "    </tr>\n",
       "    <tr>\n",
       "      <th>3</th>\n",
       "      <td>2022-01-01 03:00:00</td>\n",
       "      <td>8</td>\n",
       "      <td>4</td>\n",
       "    </tr>\n",
       "    <tr>\n",
       "      <th>4</th>\n",
       "      <td>2022-01-01 04:00:00</td>\n",
       "      <td>9</td>\n",
       "      <td>4</td>\n",
       "    </tr>\n",
       "    <tr>\n",
       "      <th>...</th>\n",
       "      <td>...</td>\n",
       "      <td>...</td>\n",
       "      <td>...</td>\n",
       "    </tr>\n",
       "    <tr>\n",
       "      <th>5371507</th>\n",
       "      <td>2024-04-30 19:00:00</td>\n",
       "      <td>0</td>\n",
       "      <td>110</td>\n",
       "    </tr>\n",
       "    <tr>\n",
       "      <th>5371508</th>\n",
       "      <td>2024-04-30 20:00:00</td>\n",
       "      <td>0</td>\n",
       "      <td>110</td>\n",
       "    </tr>\n",
       "    <tr>\n",
       "      <th>5371509</th>\n",
       "      <td>2024-04-30 21:00:00</td>\n",
       "      <td>0</td>\n",
       "      <td>110</td>\n",
       "    </tr>\n",
       "    <tr>\n",
       "      <th>5371510</th>\n",
       "      <td>2024-04-30 22:00:00</td>\n",
       "      <td>0</td>\n",
       "      <td>110</td>\n",
       "    </tr>\n",
       "    <tr>\n",
       "      <th>5371511</th>\n",
       "      <td>2024-04-30 23:00:00</td>\n",
       "      <td>0</td>\n",
       "      <td>110</td>\n",
       "    </tr>\n",
       "  </tbody>\n",
       "</table>\n",
       "<p>5371512 rows × 3 columns</p>\n",
       "</div>"
      ],
      "text/plain": [
       "                pickup_hour  rides  pickup_location_id\n",
       "0       2022-01-01 00:00:00     11                   4\n",
       "1       2022-01-01 01:00:00     15                   4\n",
       "2       2022-01-01 02:00:00     26                   4\n",
       "3       2022-01-01 03:00:00      8                   4\n",
       "4       2022-01-01 04:00:00      9                   4\n",
       "...                     ...    ...                 ...\n",
       "5371507 2024-04-30 19:00:00      0                 110\n",
       "5371508 2024-04-30 20:00:00      0                 110\n",
       "5371509 2024-04-30 21:00:00      0                 110\n",
       "5371510 2024-04-30 22:00:00      0                 110\n",
       "5371511 2024-04-30 23:00:00      0                 110\n",
       "\n",
       "[5371512 rows x 3 columns]"
      ]
     },
     "execution_count": 6,
     "metadata": {},
     "output_type": "execute_result"
    }
   ],
   "source": [
    "ts_data"
   ]
  },
  {
   "cell_type": "code",
   "execution_count": 7,
   "metadata": {},
   "outputs": [],
   "source": [
    "import hopsworks"
   ]
  },
  {
   "cell_type": "code",
   "execution_count": 8,
   "metadata": {},
   "outputs": [
    {
     "name": "stdout",
     "output_type": "stream",
     "text": [
      "Connected. Call `.close()` to terminate connection gracefully.\n",
      "\n",
      "Logged in to project, explore it here https://c.app.hopsworks.ai:443/p/837781\n"
     ]
    }
   ],
   "source": [
    "project = hopsworks.login(\n",
    "    project=HOPSWORKS_PROJECT_NAME,\n",
    "    api_key_value=HOPSWORKS_API_KEY\n",
    ")"
   ]
  },
  {
   "cell_type": "code",
   "execution_count": 9,
   "metadata": {},
   "outputs": [
    {
     "name": "stdout",
     "output_type": "stream",
     "text": [
      "Connected. Call `.close()` to terminate connection gracefully.\n"
     ]
    }
   ],
   "source": [
    "feature_store = project.get_feature_store()"
   ]
  },
  {
   "cell_type": "code",
   "execution_count": 10,
   "metadata": {},
   "outputs": [],
   "source": [
    "FEATURE_GROUP_NAME = 'time_series_hourly_feature_group'\n",
    "FEATURE_GROUP_VERSION = 1"
   ]
  },
  {
   "cell_type": "code",
   "execution_count": 11,
   "metadata": {},
   "outputs": [],
   "source": [
    "feature_group = feature_store.get_or_create_feature_group(\n",
    "    name=FEATURE_GROUP_NAME,\n",
    "    version=FEATURE_GROUP_VERSION,\n",
    "    description='Time-series data at hourly frequency',\n",
    "    primary_key=['pickup_location_id', 'pickup_hour'],\n",
    "    event_time='pickup_hour'\n",
    ")"
   ]
  },
  {
   "cell_type": "code",
   "execution_count": 13,
   "metadata": {},
   "outputs": [
    {
     "name": "stdout",
     "output_type": "stream",
     "text": [
      "Feature Group created successfully, explore it at \n",
      "https://c.app.hopsworks.ai:443/p/837781/fs/833604/fg/955745\n"
     ]
    },
    {
     "data": {
      "application/vnd.jupyter.widget-view+json": {
       "model_id": "6fc08d1043c64e9d9e08393868613b4c",
       "version_major": 2,
       "version_minor": 0
      },
      "text/plain": [
       "Uploading Dataframe: 0.00% |          | Rows 0/5371512 | Elapsed Time: 00:00 | Remaining Time: ?"
      ]
     },
     "metadata": {},
     "output_type": "display_data"
    },
    {
     "name": "stdout",
     "output_type": "stream",
     "text": [
      "Launching job: time_series_hourly_feature_group_1_offline_fg_materialization\n",
      "Job started successfully, you can follow the progress at \n",
      "https://c.app.hopsworks.ai/p/837781/jobs/named/time_series_hourly_feature_group_1_offline_fg_materialization/executions\n"
     ]
    },
    {
     "data": {
      "text/plain": [
       "(<hsfs.core.job.Job at 0x7f75dc7ddaf0>, None)"
      ]
     },
     "execution_count": 13,
     "metadata": {},
     "output_type": "execute_result"
    }
   ],
   "source": [
    "feature_group.insert(ts_data,\n",
    "                     write_options={'wait_for_job':False})"
   ]
  },
  {
   "cell_type": "code",
   "execution_count": null,
   "metadata": {},
   "outputs": [],
   "source": []
  }
 ],
 "metadata": {
  "kernelspec": {
   "display_name": "Python 3",
   "language": "python",
   "name": "python3"
  },
  "language_info": {
   "codemirror_mode": {
    "name": "ipython",
    "version": 3
   },
   "file_extension": ".py",
   "mimetype": "text/x-python",
   "name": "python",
   "nbconvert_exporter": "python",
   "pygments_lexer": "ipython3",
   "version": "3.9.12"
  }
 },
 "nbformat": 4,
 "nbformat_minor": 2
}
